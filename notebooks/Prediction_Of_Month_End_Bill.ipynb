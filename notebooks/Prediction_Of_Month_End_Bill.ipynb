{
 "cells": [
  {
   "cell_type": "code",
   "execution_count": 1,
   "metadata": {
    "colab": {
     "base_uri": "https://localhost:8080/"
    },
    "id": "xIuVXoDR6PJJ",
    "outputId": "63101e3a-a454-4d97-f497-63ce0910aca4"
   },
   "outputs": [
    {
     "name": "stdout",
     "output_type": "stream",
     "text": [
      "Requirement already satisfied: influxdb-client[ciso] in /opt/conda/lib/python3.7/site-packages (1.21.0)\n",
      "Requirement already satisfied: six>=1.10 in /home/jupyter/.local/lib/python3.7/site-packages (from influxdb-client[ciso]) (1.16.0)\n",
      "Requirement already satisfied: setuptools>=21.0.0 in /opt/conda/lib/python3.7/site-packages (from influxdb-client[ciso]) (58.2.0)\n",
      "Requirement already satisfied: pytz>=2019.1 in /opt/conda/lib/python3.7/site-packages (from influxdb-client[ciso]) (2021.3)\n",
      "Requirement already satisfied: certifi>=14.05.14 in /home/jupyter/.local/lib/python3.7/site-packages (from influxdb-client[ciso]) (2021.10.8)\n",
      "Requirement already satisfied: python-dateutil>=2.5.3 in /home/jupyter/.local/lib/python3.7/site-packages (from influxdb-client[ciso]) (2.8.2)\n",
      "Requirement already satisfied: rx>=3.0.1 in /opt/conda/lib/python3.7/site-packages (from influxdb-client[ciso]) (3.2.0)\n",
      "Requirement already satisfied: urllib3>=1.15.1 in /home/jupyter/.local/lib/python3.7/site-packages (from influxdb-client[ciso]) (1.26.7)\n",
      "Requirement already satisfied: ciso8601>=2.1.1 in /opt/conda/lib/python3.7/site-packages (from influxdb-client[ciso]) (2.2.0)\n",
      "Requirement already satisfied: firebase-admin in /opt/conda/lib/python3.7/site-packages (5.0.3)\n",
      "Requirement already satisfied: google-cloud-firestore>=2.1.0 in /opt/conda/lib/python3.7/site-packages (from firebase-admin) (2.3.4)\n",
      "Requirement already satisfied: google-cloud-storage>=1.37.1 in /opt/conda/lib/python3.7/site-packages (from firebase-admin) (1.42.3)\n",
      "Requirement already satisfied: google-api-core[grpc]<3.0.0dev,>=1.22.1 in /opt/conda/lib/python3.7/site-packages (from firebase-admin) (2.1.0)\n",
      "Requirement already satisfied: google-api-python-client>=1.7.8 in /opt/conda/lib/python3.7/site-packages (from firebase-admin) (2.24.0)\n",
      "Requirement already satisfied: cachecontrol>=0.12.6 in /opt/conda/lib/python3.7/site-packages (from firebase-admin) (0.12.6)\n",
      "Requirement already satisfied: requests in /home/jupyter/.local/lib/python3.7/site-packages (from cachecontrol>=0.12.6->firebase-admin) (2.26.0)\n",
      "Requirement already satisfied: msgpack>=0.5.2 in /opt/conda/lib/python3.7/site-packages (from cachecontrol>=0.12.6->firebase-admin) (1.0.2)\n",
      "Requirement already satisfied: setuptools>=40.3.0 in /opt/conda/lib/python3.7/site-packages (from google-api-core[grpc]<3.0.0dev,>=1.22.1->firebase-admin) (58.2.0)\n",
      "Requirement already satisfied: google-auth<3.0dev,>=1.25.0 in /opt/conda/lib/python3.7/site-packages (from google-api-core[grpc]<3.0.0dev,>=1.22.1->firebase-admin) (2.3.0)\n",
      "Requirement already satisfied: protobuf>=3.12.0 in /opt/conda/lib/python3.7/site-packages (from google-api-core[grpc]<3.0.0dev,>=1.22.1->firebase-admin) (3.18.1)\n",
      "Requirement already satisfied: googleapis-common-protos<2.0dev,>=1.6.0 in /opt/conda/lib/python3.7/site-packages (from google-api-core[grpc]<3.0.0dev,>=1.22.1->firebase-admin) (1.53.0)\n",
      "Requirement already satisfied: grpcio<2.0dev,>=1.33.2 in /opt/conda/lib/python3.7/site-packages (from google-api-core[grpc]<3.0.0dev,>=1.22.1->firebase-admin) (1.38.1)\n",
      "Requirement already satisfied: uritemplate<4dev,>=3.0.0 in /opt/conda/lib/python3.7/site-packages (from google-api-python-client>=1.7.8->firebase-admin) (3.0.1)\n",
      "Requirement already satisfied: google-auth-httplib2>=0.1.0 in /opt/conda/lib/python3.7/site-packages (from google-api-python-client>=1.7.8->firebase-admin) (0.1.0)\n",
      "Requirement already satisfied: httplib2<1dev,>=0.15.0 in /opt/conda/lib/python3.7/site-packages (from google-api-python-client>=1.7.8->firebase-admin) (0.20.1)\n",
      "Requirement already satisfied: cachetools<5.0,>=2.0.0 in /opt/conda/lib/python3.7/site-packages (from google-auth<3.0dev,>=1.25.0->google-api-core[grpc]<3.0.0dev,>=1.22.1->firebase-admin) (4.2.4)\n",
      "Requirement already satisfied: rsa<5,>=3.1.4 in /opt/conda/lib/python3.7/site-packages (from google-auth<3.0dev,>=1.25.0->google-api-core[grpc]<3.0.0dev,>=1.22.1->firebase-admin) (4.7.2)\n",
      "Requirement already satisfied: pyasn1-modules>=0.2.1 in /opt/conda/lib/python3.7/site-packages (from google-auth<3.0dev,>=1.25.0->google-api-core[grpc]<3.0.0dev,>=1.22.1->firebase-admin) (0.2.7)\n",
      "Requirement already satisfied: six in /home/jupyter/.local/lib/python3.7/site-packages (from google-auth-httplib2>=0.1.0->google-api-python-client>=1.7.8->firebase-admin) (1.16.0)\n",
      "Requirement already satisfied: proto-plus>=1.10.0 in /opt/conda/lib/python3.7/site-packages (from google-cloud-firestore>=2.1.0->firebase-admin) (1.19.4)\n",
      "Requirement already satisfied: packaging>=14.3 in /opt/conda/lib/python3.7/site-packages (from google-cloud-firestore>=2.1.0->firebase-admin) (21.0)\n",
      "Requirement already satisfied: google-cloud-core<3.0.0dev,>=1.4.1 in /opt/conda/lib/python3.7/site-packages (from google-cloud-firestore>=2.1.0->firebase-admin) (2.1.0)\n",
      "Requirement already satisfied: google-resumable-media<3.0dev,>=1.3.0 in /opt/conda/lib/python3.7/site-packages (from google-cloud-storage>=1.37.1->firebase-admin) (2.0.3)\n",
      "Requirement already satisfied: google-crc32c<2.0dev,>=1.0 in /opt/conda/lib/python3.7/site-packages (from google-resumable-media<3.0dev,>=1.3.0->google-cloud-storage>=1.37.1->firebase-admin) (1.3.0)\n",
      "Requirement already satisfied: pyparsing<3,>=2.4.2 in /opt/conda/lib/python3.7/site-packages (from httplib2<1dev,>=0.15.0->google-api-python-client>=1.7.8->firebase-admin) (2.4.7)\n",
      "Requirement already satisfied: pyasn1<0.5.0,>=0.4.6 in /opt/conda/lib/python3.7/site-packages (from pyasn1-modules>=0.2.1->google-auth<3.0dev,>=1.25.0->google-api-core[grpc]<3.0.0dev,>=1.22.1->firebase-admin) (0.4.8)\n",
      "Requirement already satisfied: certifi>=2017.4.17 in /home/jupyter/.local/lib/python3.7/site-packages (from requests->cachecontrol>=0.12.6->firebase-admin) (2021.10.8)\n",
      "Requirement already satisfied: charset-normalizer~=2.0.0 in /home/jupyter/.local/lib/python3.7/site-packages (from requests->cachecontrol>=0.12.6->firebase-admin) (2.0.7)\n",
      "Requirement already satisfied: idna<4,>=2.5 in /home/jupyter/.local/lib/python3.7/site-packages (from requests->cachecontrol>=0.12.6->firebase-admin) (3.3)\n",
      "Requirement already satisfied: urllib3<1.27,>=1.21.1 in /home/jupyter/.local/lib/python3.7/site-packages (from requests->cachecontrol>=0.12.6->firebase-admin) (1.26.7)\n"
     ]
    }
   ],
   "source": [
    "!pip install 'influxdb-client[ciso]'\n",
    "!pip install --upgrade firebase-admin\n",
    "import firebase_admin\n",
    "from firebase_admin import credentials\n",
    "from firebase_admin import firestore\n",
    "import csv\n",
    "import os\n",
    "import pandas as pd\n",
    "import random\n",
    "import time\n",
    "import sys\n",
    "import datetime\n",
    "from influxdb_client import InfluxDBClient, Point, Dialect\n",
    "from datetime import date\n",
    "from datetime import timedelta\n",
    "import warnings\n",
    "warnings.filterwarnings(\"ignore\")"
   ]
  },
  {
   "cell_type": "code",
   "execution_count": 2,
   "metadata": {},
   "outputs": [],
   "source": [
    "#Influx DB\n",
    "\n",
    "client = InfluxDBClient.from_config_file(\"config.ini\") \n",
    "query_api = client.query_api() \n",
    "\n",
    "#Firebase\n",
    "default_app = firebase_admin.initialize_app()"
   ]
  },
  {
   "cell_type": "code",
   "execution_count": 3,
   "metadata": {
    "id": "DyTXbQ7ErhUR"
   },
   "outputs": [],
   "source": [
    "def month_date(month_no):\n",
    "    test_date = datetime.datetime(2021, month_no, 1)\n",
    "    nxt_mnth = test_date.replace(day=28) + datetime.timedelta(days=4)\n",
    "    res = nxt_mnth - datetime.timedelta(days=nxt_mnth.day)\n",
    "    arr=[test_date,res]\n",
    "    return arr\n",
    "\n",
    "def monthly_consumption(month_no):\n",
    "    spr = month_date(month_no)\n",
    "    if month_no == 10:\n",
    "        spr[0] += timedelta(days=12)\n",
    "        stri= '''from(bucket: \"sme-akash\")|> range(start: {start}, stop: {stop})|> filter(fn: (r) => r[\"_field\"] == \"energy\")|> spread()|> yield(name: \"spread\")'''.format(start=str(spr[0].strftime(\"%s\")), stop=str(spr[1].strftime(\"%s\")))\n",
    "        sp = query_api.query_data_frame(stri)\n",
    "        sp.at[1,'_value'] += 33\n",
    "        return sp\n",
    "    else:\n",
    "        stri= '''from(bucket: \"sme-akash\")|> range(start: {start}, stop: {stop})|> filter(fn: (r) => r[\"_field\"] == \"energy\")|> spread()|> yield(name: \"spread\")'''.format(start=str(spr[0].strftime(\"%s\")), stop=str(spr[1].strftime(\"%s\")))\n",
    "        sp = query_api.query_data_frame(stri)\n",
    "        return(sp)\n"
   ]
  },
  {
   "cell_type": "code",
   "execution_count": 4,
   "metadata": {
    "colab": {
     "base_uri": "https://localhost:8080/"
    },
    "id": "KdXFC_-JJC6y",
    "outputId": "4a437d04-1c46-4ca8-8a7e-2c13b8852aaf"
   },
   "outputs": [
    {
     "name": "stdout",
     "output_type": "stream",
     "text": [
      "You have consumed 220.18 units this month, and you have 299.4 units left!\n",
      "Total consumption estimate: 519.58 units and solar generation: 276.73 units.\n",
      "Estimated bill amount for October : Rs. 2461.31\n",
      "wrote data to firebase\n",
      "<class 'pandas._libs.tslibs.timestamps.Timestamp'>\n"
     ]
    }
   ],
   "source": [
    "db = firestore.client()\n",
    "def calc(units,solar=0,kwh=9):\n",
    "    net=units-solar\n",
    "    fixed=85+(kwh-1)*95\n",
    "    amt=0\n",
    "    if net<=50: amt=net * 4.1\n",
    "    elif net<=100: amt=205+(net-50)*5.55\n",
    "    elif net<=200: amt=205+277.5+(net-100)*7.1\n",
    "    else: amt=205+277.5+710+(net-200)*8.15\n",
    "    amt=amt*1.09-50-14.22\n",
    "    return amt+fixed\n",
    "\n",
    "def returnResult(date, solar_val, current_month_consumption, remaining_units, current_estimated_consumption):\n",
    "    months = ['January', 'February', 'March', 'April', 'May', 'June', 'July', 'August', 'September', 'October', 'November', 'December']\n",
    "    month_str = months[date.month-1]\n",
    "    print(\"You have consumed\", round(current_month_consumption, 2), \"units this month, and you have\", round(remaining_units, 2) ,\"units left!\")\n",
    "    print(\"Total consumption estimate:\", round(current_estimated_consumption, 2), \"units and solar generation:\", round(solar_val, 2), \"units.\")\n",
    "    print(\"Estimated bill amount for\", month_str, \":\", \"Rs.\", round(calc(current_estimated_consumption, solar_val), 2))\n",
    "    \n",
    "    today = date.today()\n",
    "\n",
    "    doc_ref = db.collection(u'predictions').document(u'month_end_bill')\n",
    "    doc_ref.set({\n",
    "    u'current_month_consumption': round(current_month_consumption, 2),\n",
    "    u'remaining_units': round(remaining_units, 2),\n",
    "    u'current_estimated_consumption': round(current_estimated_consumption, 2),\n",
    "    u'solar_val': round(solar_val, 2),\n",
    "    u'estimated_bill': round(calc(current_estimated_consumption, solar_val), 2),\n",
    "    u'last_updated': today\n",
    "    })\n",
    "    \n",
    "    print(\"wrote data to firebase\")\n",
    "    \n",
    "    print(type(today))\n",
    "\n",
    "def predict(date):\n",
    "    month = date.month\n",
    "\n",
    "    prev_month_1 = monthly_consumption(month - 1)\n",
    "    prev_month_1_solar = prev_month_1.loc[prev_month_1[\"_measurement\"]==\"Solar\"]\n",
    "    prev_month_1_phases = prev_month_1.loc[prev_month_1[\"_measurement\"]!=\"Solar\"]\n",
    "\n",
    "    prev_month_1_solar_generation = prev_month_1_solar[\"_value\"].sum()\n",
    "    prev_month_1_consumption = prev_month_1_phases[\"_value\"].sum()\n",
    "\n",
    "\n",
    "    prev_month_2 = monthly_consumption(month - 2)\n",
    "    prev_month_2_solar = prev_month_2.loc[prev_month_2[\"_measurement\"]==\"Solar\"]\n",
    "    prev_month_2_phases = prev_month_2.loc[prev_month_2[\"_measurement\"]!=\"Solar\"]\n",
    "\n",
    "    prev_month_2_solar_generation = prev_month_2_solar[\"_value\"].sum()\n",
    "    prev_month_2_consumption = prev_month_2_phases[\"_value\"].sum()\n",
    "\n",
    "    current_month = monthly_consumption(month)\n",
    "    current_month_phases = current_month.loc[current_month[\"_measurement\"]!=\"Solar\"]\n",
    "    current_month_consumption = current_month_phases[\"_value\"].sum()\n",
    "\n",
    "    predicted_solar = 0.5*(prev_month_2_solar_generation + prev_month_1_solar_generation)\n",
    "\n",
    "    if(prev_month_1_consumption > prev_month_2_consumption):\n",
    "      current_estimated_consumption = 2*prev_month_1_consumption - prev_month_2_consumption\n",
    "    else: \n",
    "      current_estimated_consumption = 0.5*(prev_month_1_consumption+prev_month_2_consumption)\n",
    "\n",
    "    remaining_units = current_estimated_consumption - current_month_consumption\n",
    "    returnResult(date, predicted_solar, current_month_consumption, remaining_units, current_estimated_consumption)\n",
    "\n",
    "date = pd.Timestamp('2021-10-25 08:00:29.745000').tz_localize(None)\n",
    "predict(date)"
   ]
  }
 ],
 "metadata": {
  "colab": {
   "name": "Prediction Of Month End Bill.ipynb",
   "provenance": []
  },
  "environment": {
   "name": "common-cpu.m81",
   "type": "gcloud",
   "uri": "gcr.io/deeplearning-platform-release/base-cpu:m81"
  },
  "kernelspec": {
   "display_name": "Python 3",
   "language": "python",
   "name": "python3"
  },
  "language_info": {
   "codemirror_mode": {
    "name": "ipython",
    "version": 3
   },
   "file_extension": ".py",
   "mimetype": "text/x-python",
   "name": "python",
   "nbconvert_exporter": "python",
   "pygments_lexer": "ipython3",
   "version": "3.7.10"
  }
 },
 "nbformat": 4,
 "nbformat_minor": 4
}
